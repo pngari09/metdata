{
 "cells": [
  {
   "cell_type": "code",
   "execution_count": 12,
   "id": "d4ae3ff9",
   "metadata": {},
   "outputs": [
    {
     "data": {
      "text/html": [
       "<div><style>\n",
       ".dataframe > thead > tr,\n",
       ".dataframe > tbody > tr {\n",
       "  text-align: right;\n",
       "  white-space: pre-wrap;\n",
       "}\n",
       "</style>\n",
       "<small>shape: (12, 9)</small><table border=\"1\" class=\"dataframe\"><thead><tr><th>Station/Location</th><th>Date</th><th>tre200s0</th><th>uor200s0</th><th>prestas0</th><th>fkl010z0</th><th>fkl010z1</th><th>dkl010z0</th><th>rre150z0</th></tr><tr><td>str</td><td>i64</td><td>str</td><td>str</td><td>str</td><td>str</td><td>f64</td><td>str</td><td>str</td></tr></thead><tbody><tr><td>&quot;KENAI&quot;</td><td>202411140730</td><td>&quot;21.8&quot;</td><td>&quot;74.4&quot;</td><td>&quot;824.4&quot;</td><td>&quot;3.7&quot;</td><td>3.7</td><td>&quot;39&quot;</td><td>&quot;0.0&quot;</td></tr><tr><td>&quot;KENAI&quot;</td><td>202411140740</td><td>&quot;21.9&quot;</td><td>&quot;-&quot;</td><td>&quot;824.3&quot;</td><td>&quot;2.1&quot;</td><td>3.7</td><td>&quot;-&quot;</td><td>&quot;0.0&quot;</td></tr><tr><td>&quot;KENAI&quot;</td><td>202411140750</td><td>&quot;22.0&quot;</td><td>&quot;67.5&quot;</td><td>&quot;824.3&quot;</td><td>&quot;0.6&quot;</td><td>3.2</td><td>&quot;59&quot;</td><td>&quot;0.0&quot;</td></tr><tr><td>&quot;KENAI&quot;</td><td>202411140800</td><td>&quot;22.7&quot;</td><td>&quot;67.8&quot;</td><td>&quot;824.2&quot;</td><td>&quot;2.7&quot;</td><td>4.2</td><td>&quot;36&quot;</td><td>&quot;0.0&quot;</td></tr><tr><td>&quot;KENAI&quot;</td><td>202411140810</td><td>&quot;22.5&quot;</td><td>&quot;65.5&quot;</td><td>&quot;824.0&quot;</td><td>&quot;1.8&quot;</td><td>4.1</td><td>&quot;80&quot;</td><td>&quot;0.0&quot;</td></tr><tr><td>&hellip;</td><td>&hellip;</td><td>&hellip;</td><td>&hellip;</td><td>&hellip;</td><td>&hellip;</td><td>&hellip;</td><td>&hellip;</td><td>&hellip;</td></tr><tr><td>&quot;KENAI&quot;</td><td>202411140840</td><td>&quot;23.6&quot;</td><td>&quot;64.4&quot;</td><td>&quot;823.6&quot;</td><td>&quot;1.8&quot;</td><td>4.6</td><td>&quot;51&quot;</td><td>&quot;0.0&quot;</td></tr><tr><td>&quot;KENAI&quot;</td><td>202411140850</td><td>&quot;24.0&quot;</td><td>&quot;62.8&quot;</td><td>&quot;823.5&quot;</td><td>&quot;2.0&quot;</td><td>4.0</td><td>&quot;30&quot;</td><td>&quot;0.0&quot;</td></tr><tr><td>&quot;KENAI&quot;</td><td>202411140900</td><td>&quot;22.9&quot;</td><td>&quot;63.3&quot;</td><td>&quot;823.4&quot;</td><td>&quot;1.2&quot;</td><td>4.2</td><td>&quot;130&quot;</td><td>&quot;0.0&quot;</td></tr><tr><td>&quot;KENAI&quot;</td><td>202411140910</td><td>&quot;-&quot;</td><td>&quot;-&quot;</td><td>&quot;-&quot;</td><td>&quot;-&quot;</td><td>3.7</td><td>&quot;-&quot;</td><td>&quot;-&quot;</td></tr><tr><td>&quot;KENAI&quot;</td><td>202411140920</td><td>&quot;-&quot;</td><td>&quot;-&quot;</td><td>&quot;-&quot;</td><td>&quot;-&quot;</td><td>4.0</td><td>&quot;-&quot;</td><td>&quot;-&quot;</td></tr></tbody></table></div>"
      ],
      "text/plain": [
       "shape: (12, 9)\n",
       "┌──────────────┬─────────────┬──────────┬──────────┬───┬──────────┬──────────┬──────────┬──────────┐\n",
       "│ Station/Loca ┆ Date        ┆ tre200s0 ┆ uor200s0 ┆ … ┆ fkl010z0 ┆ fkl010z1 ┆ dkl010z0 ┆ rre150z0 │\n",
       "│ tion         ┆ ---         ┆ ---      ┆ ---      ┆   ┆ ---      ┆ ---      ┆ ---      ┆ ---      │\n",
       "│ ---          ┆ i64         ┆ str      ┆ str      ┆   ┆ str      ┆ f64      ┆ str      ┆ str      │\n",
       "│ str          ┆             ┆          ┆          ┆   ┆          ┆          ┆          ┆          │\n",
       "╞══════════════╪═════════════╪══════════╪══════════╪═══╪══════════╪══════════╪══════════╪══════════╡\n",
       "│ KENAI        ┆ 20241114073 ┆ 21.8     ┆ 74.4     ┆ … ┆ 3.7      ┆ 3.7      ┆ 39       ┆ 0.0      │\n",
       "│              ┆ 0           ┆          ┆          ┆   ┆          ┆          ┆          ┆          │\n",
       "│ KENAI        ┆ 20241114074 ┆ 21.9     ┆ -        ┆ … ┆ 2.1      ┆ 3.7      ┆ -        ┆ 0.0      │\n",
       "│              ┆ 0           ┆          ┆          ┆   ┆          ┆          ┆          ┆          │\n",
       "│ KENAI        ┆ 20241114075 ┆ 22.0     ┆ 67.5     ┆ … ┆ 0.6      ┆ 3.2      ┆ 59       ┆ 0.0      │\n",
       "│              ┆ 0           ┆          ┆          ┆   ┆          ┆          ┆          ┆          │\n",
       "│ KENAI        ┆ 20241114080 ┆ 22.7     ┆ 67.8     ┆ … ┆ 2.7      ┆ 4.2      ┆ 36       ┆ 0.0      │\n",
       "│              ┆ 0           ┆          ┆          ┆   ┆          ┆          ┆          ┆          │\n",
       "│ KENAI        ┆ 20241114081 ┆ 22.5     ┆ 65.5     ┆ … ┆ 1.8      ┆ 4.1      ┆ 80       ┆ 0.0      │\n",
       "│              ┆ 0           ┆          ┆          ┆   ┆          ┆          ┆          ┆          │\n",
       "│ …            ┆ …           ┆ …        ┆ …        ┆ … ┆ …        ┆ …        ┆ …        ┆ …        │\n",
       "│ KENAI        ┆ 20241114084 ┆ 23.6     ┆ 64.4     ┆ … ┆ 1.8      ┆ 4.6      ┆ 51       ┆ 0.0      │\n",
       "│              ┆ 0           ┆          ┆          ┆   ┆          ┆          ┆          ┆          │\n",
       "│ KENAI        ┆ 20241114085 ┆ 24.0     ┆ 62.8     ┆ … ┆ 2.0      ┆ 4.0      ┆ 30       ┆ 0.0      │\n",
       "│              ┆ 0           ┆          ┆          ┆   ┆          ┆          ┆          ┆          │\n",
       "│ KENAI        ┆ 20241114090 ┆ 22.9     ┆ 63.3     ┆ … ┆ 1.2      ┆ 4.2      ┆ 130      ┆ 0.0      │\n",
       "│              ┆ 0           ┆          ┆          ┆   ┆          ┆          ┆          ┆          │\n",
       "│ KENAI        ┆ 20241114091 ┆ -        ┆ -        ┆ … ┆ -        ┆ 3.7      ┆ -        ┆ -        │\n",
       "│              ┆ 0           ┆          ┆          ┆   ┆          ┆          ┆          ┆          │\n",
       "│ KENAI        ┆ 20241114092 ┆ -        ┆ -        ┆ … ┆ -        ┆ 4.0      ┆ -        ┆ -        │\n",
       "│              ┆ 0           ┆          ┆          ┆   ┆          ┆          ┆          ┆          │\n",
       "└──────────────┴─────────────┴──────────┴──────────┴───┴──────────┴──────────┴──────────┴──────────┘"
      ]
     },
     "execution_count": 12,
     "metadata": {},
     "output_type": "execute_result"
    }
   ],
   "source": [
    "file_path = 'gawnrb\\meteo\\VRXZ07.202411140928.696'\n",
    "\n",
    "import polars as pl\n",
    "\n",
    "df = pl.read_csv(file_path, separator = ';', skip_rows = 2)\n",
    "df"
   ]
  },
  {
   "cell_type": "code",
   "execution_count": 32,
   "id": "2dc0b7cf",
   "metadata": {},
   "outputs": [
    {
     "name": "stdout",
     "output_type": "stream",
     "text": [
      "Reading: gawnrb/meteo\\VRXZ07.202411140928.696\n",
      "Schema({'Station/Location': String, 'Date': Int64, 'tre200s0': String, 'uor200s0': String, 'prestas0': String, 'fkl010z0': String, 'fkl010z1': Float64, 'dkl010z0': String, 'rre150z0': String})\n",
      "Reading: gawnrb/meteo\\VRXZ07.202411140938.762\n",
      "Schema({'Station/Location': String, 'Date': Int64, 'tre200s0': String, 'uor200s0': String, 'prestas0': String, 'fkl010z0': String, 'fkl010z1': Float64, 'dkl010z0': String, 'rre150z0': String})\n",
      "Reading: gawnrb/meteo\\VRXZ07.202411140948.796\n",
      "Schema({'Station/Location': String, 'Date': Int64, 'tre200s0': String, 'uor200s0': String, 'prestas0': String, 'fkl010z0': String, 'fkl010z1': Float64, 'dkl010z0': String, 'rre150z0': String})\n",
      "Reading: gawnrb/meteo\\VRXZ07.202411140958.849\n",
      "Schema({'Station/Location': String, 'Date': Int64, 'tre200s0': String, 'uor200s0': String, 'prestas0': String, 'fkl010z0': String, 'fkl010z1': Float64, 'dkl010z0': String, 'rre150z0': String})\n",
      "Reading: gawnrb/meteo\\VRXZ07.202411141008.916\n",
      "Schema({'Station/Location': String, 'Date': Int64, 'tre200s0': Float64, 'uor200s0': String, 'prestas0': Float64, 'fkl010z0': Float64, 'fkl010z1': Float64, 'dkl010z0': String, 'rre150z0': Float64})\n",
      "Failed to read gawnrb/meteo\\VRXZ07.202411141008.916: type Float64 is incompatible with expected type String\n",
      "Reading: gawnrb/meteo\\VRXZ07.202411141018.955\n",
      "Schema({'Station/Location': String, 'Date': Int64, 'tre200s0': Float64, 'uor200s0': String, 'prestas0': Float64, 'fkl010z0': Float64, 'fkl010z1': Float64, 'dkl010z0': String, 'rre150z0': Float64})\n",
      "Failed to read gawnrb/meteo\\VRXZ07.202411141018.955: type Float64 is incompatible with expected type String\n",
      "Reading: gawnrb/meteo\\VRXZ07.202411141028.023\n",
      "Schema({'Station/Location': String, 'Date': Int64, 'tre200s0': Float64, 'uor200s0': String, 'prestas0': Float64, 'fkl010z0': Float64, 'fkl010z1': Float64, 'dkl010z0': String, 'rre150z0': Float64})\n",
      "Failed to read gawnrb/meteo\\VRXZ07.202411141028.023: type Float64 is incompatible with expected type String\n",
      "Reading: gawnrb/meteo\\VRXZ07.202411141038.085\n",
      "Schema({'Station/Location': String, 'Date': Int64, 'tre200s0': Float64, 'uor200s0': String, 'prestas0': Float64, 'fkl010z0': Float64, 'fkl010z1': Float64, 'dkl010z0': String, 'rre150z0': Float64})\n",
      "Failed to read gawnrb/meteo\\VRXZ07.202411141038.085: type Float64 is incompatible with expected type String\n",
      "Reading: gawnrb/meteo\\VRXZ07.202411141048.123\n",
      "Schema({'Station/Location': String, 'Date': Int64, 'tre200s0': Float64, 'uor200s0': String, 'prestas0': Float64, 'fkl010z0': Float64, 'fkl010z1': Float64, 'dkl010z0': String, 'rre150z0': Float64})\n",
      "Failed to read gawnrb/meteo\\VRXZ07.202411141048.123: type Float64 is incompatible with expected type String\n",
      "Reading: gawnrb/meteo\\VRXZ07.202411141058.179\n",
      "Schema({'Station/Location': String, 'Date': Int64, 'tre200s0': Float64, 'uor200s0': String, 'prestas0': Float64, 'fkl010z0': Float64, 'fkl010z1': Float64, 'dkl010z0': String, 'rre150z0': Float64})\n",
      "Failed to read gawnrb/meteo\\VRXZ07.202411141058.179: type Float64 is incompatible with expected type String\n",
      "Reading: gawnrb/meteo\\VRXZ07.202411141108.247\n",
      "Schema({'Station/Location': String, 'Date': Int64, 'tre200s0': Float64, 'uor200s0': String, 'prestas0': Float64, 'fkl010z0': Float64, 'fkl010z1': Float64, 'dkl010z0': String, 'rre150z0': Float64})\n",
      "Failed to read gawnrb/meteo\\VRXZ07.202411141108.247: type Float64 is incompatible with expected type String\n",
      "Reading: gawnrb/meteo\\VRXZ07.202411141118.279\n",
      "Schema({'Station/Location': String, 'Date': Int64, 'tre200s0': Float64, 'uor200s0': String, 'prestas0': Float64, 'fkl010z0': Float64, 'fkl010z1': Float64, 'dkl010z0': String, 'rre150z0': Float64})\n",
      "Failed to read gawnrb/meteo\\VRXZ07.202411141118.279: type Float64 is incompatible with expected type String\n"
     ]
    },
    {
     "data": {
      "text/html": [
       "<div><style>\n",
       ".dataframe > thead > tr,\n",
       ".dataframe > tbody > tr {\n",
       "  text-align: right;\n",
       "  white-space: pre-wrap;\n",
       "}\n",
       "</style>\n",
       "<small>shape: (48, 9)</small><table border=\"1\" class=\"dataframe\"><thead><tr><th>Station/Location</th><th>Date</th><th>tre200s0</th><th>uor200s0</th><th>prestas0</th><th>fkl010z0</th><th>fkl010z1</th><th>dkl010z0</th><th>rre150z0</th></tr><tr><td>str</td><td>i64</td><td>str</td><td>str</td><td>str</td><td>str</td><td>f64</td><td>str</td><td>str</td></tr></thead><tbody><tr><td>&quot;KENAI&quot;</td><td>202411140730</td><td>&quot;21.8&quot;</td><td>&quot;74.4&quot;</td><td>&quot;824.4&quot;</td><td>&quot;3.7&quot;</td><td>3.7</td><td>&quot;39&quot;</td><td>&quot;0.0&quot;</td></tr><tr><td>&quot;KENAI&quot;</td><td>202411140740</td><td>&quot;21.9&quot;</td><td>&quot;-&quot;</td><td>&quot;824.3&quot;</td><td>&quot;2.1&quot;</td><td>3.7</td><td>&quot;-&quot;</td><td>&quot;0.0&quot;</td></tr><tr><td>&quot;KENAI&quot;</td><td>202411140750</td><td>&quot;22.0&quot;</td><td>&quot;67.5&quot;</td><td>&quot;824.3&quot;</td><td>&quot;0.6&quot;</td><td>3.2</td><td>&quot;59&quot;</td><td>&quot;0.0&quot;</td></tr><tr><td>&quot;KENAI&quot;</td><td>202411140800</td><td>&quot;22.7&quot;</td><td>&quot;67.8&quot;</td><td>&quot;824.2&quot;</td><td>&quot;2.7&quot;</td><td>4.2</td><td>&quot;36&quot;</td><td>&quot;0.0&quot;</td></tr><tr><td>&quot;KENAI&quot;</td><td>202411140810</td><td>&quot;22.5&quot;</td><td>&quot;65.5&quot;</td><td>&quot;824.0&quot;</td><td>&quot;1.8&quot;</td><td>4.1</td><td>&quot;80&quot;</td><td>&quot;0.0&quot;</td></tr><tr><td>&hellip;</td><td>&hellip;</td><td>&hellip;</td><td>&hellip;</td><td>&hellip;</td><td>&hellip;</td><td>&hellip;</td><td>&hellip;</td><td>&hellip;</td></tr><tr><td>&quot;KENAI&quot;</td><td>202411140910</td><td>&quot;-&quot;</td><td>&quot;-&quot;</td><td>&quot;-&quot;</td><td>&quot;-&quot;</td><td>3.7</td><td>&quot;-&quot;</td><td>&quot;-&quot;</td></tr><tr><td>&quot;KENAI&quot;</td><td>202411140920</td><td>&quot;-&quot;</td><td>&quot;-&quot;</td><td>&quot;-&quot;</td><td>&quot;-&quot;</td><td>4.0</td><td>&quot;-&quot;</td><td>&quot;-&quot;</td></tr><tr><td>&quot;KENAI&quot;</td><td>202411140930</td><td>&quot;24.2&quot;</td><td>&quot;56.2&quot;</td><td>&quot;822.8&quot;</td><td>&quot;1.4&quot;</td><td>3.7</td><td>&quot;46&quot;</td><td>&quot;0.0&quot;</td></tr><tr><td>&quot;KENAI&quot;</td><td>202411140940</td><td>&quot;23.9&quot;</td><td>&quot;60.7&quot;</td><td>&quot;822.6&quot;</td><td>&quot;0.4&quot;</td><td>3.5</td><td>&quot;116&quot;</td><td>&quot;0.0&quot;</td></tr><tr><td>&quot;KENAI&quot;</td><td>202411140950</td><td>&quot;23.9&quot;</td><td>&quot;57.1&quot;</td><td>&quot;822.5&quot;</td><td>&quot;0.5&quot;</td><td>3.6</td><td>&quot;125&quot;</td><td>&quot;0.0&quot;</td></tr></tbody></table></div>"
      ],
      "text/plain": [
       "shape: (48, 9)\n",
       "┌──────────────┬─────────────┬──────────┬──────────┬───┬──────────┬──────────┬──────────┬──────────┐\n",
       "│ Station/Loca ┆ Date        ┆ tre200s0 ┆ uor200s0 ┆ … ┆ fkl010z0 ┆ fkl010z1 ┆ dkl010z0 ┆ rre150z0 │\n",
       "│ tion         ┆ ---         ┆ ---      ┆ ---      ┆   ┆ ---      ┆ ---      ┆ ---      ┆ ---      │\n",
       "│ ---          ┆ i64         ┆ str      ┆ str      ┆   ┆ str      ┆ f64      ┆ str      ┆ str      │\n",
       "│ str          ┆             ┆          ┆          ┆   ┆          ┆          ┆          ┆          │\n",
       "╞══════════════╪═════════════╪══════════╪══════════╪═══╪══════════╪══════════╪══════════╪══════════╡\n",
       "│ KENAI        ┆ 20241114073 ┆ 21.8     ┆ 74.4     ┆ … ┆ 3.7      ┆ 3.7      ┆ 39       ┆ 0.0      │\n",
       "│              ┆ 0           ┆          ┆          ┆   ┆          ┆          ┆          ┆          │\n",
       "│ KENAI        ┆ 20241114074 ┆ 21.9     ┆ -        ┆ … ┆ 2.1      ┆ 3.7      ┆ -        ┆ 0.0      │\n",
       "│              ┆ 0           ┆          ┆          ┆   ┆          ┆          ┆          ┆          │\n",
       "│ KENAI        ┆ 20241114075 ┆ 22.0     ┆ 67.5     ┆ … ┆ 0.6      ┆ 3.2      ┆ 59       ┆ 0.0      │\n",
       "│              ┆ 0           ┆          ┆          ┆   ┆          ┆          ┆          ┆          │\n",
       "│ KENAI        ┆ 20241114080 ┆ 22.7     ┆ 67.8     ┆ … ┆ 2.7      ┆ 4.2      ┆ 36       ┆ 0.0      │\n",
       "│              ┆ 0           ┆          ┆          ┆   ┆          ┆          ┆          ┆          │\n",
       "│ KENAI        ┆ 20241114081 ┆ 22.5     ┆ 65.5     ┆ … ┆ 1.8      ┆ 4.1      ┆ 80       ┆ 0.0      │\n",
       "│              ┆ 0           ┆          ┆          ┆   ┆          ┆          ┆          ┆          │\n",
       "│ …            ┆ …           ┆ …        ┆ …        ┆ … ┆ …        ┆ …        ┆ …        ┆ …        │\n",
       "│ KENAI        ┆ 20241114091 ┆ -        ┆ -        ┆ … ┆ -        ┆ 3.7      ┆ -        ┆ -        │\n",
       "│              ┆ 0           ┆          ┆          ┆   ┆          ┆          ┆          ┆          │\n",
       "│ KENAI        ┆ 20241114092 ┆ -        ┆ -        ┆ … ┆ -        ┆ 4.0      ┆ -        ┆ -        │\n",
       "│              ┆ 0           ┆          ┆          ┆   ┆          ┆          ┆          ┆          │\n",
       "│ KENAI        ┆ 20241114093 ┆ 24.2     ┆ 56.2     ┆ … ┆ 1.4      ┆ 3.7      ┆ 46       ┆ 0.0      │\n",
       "│              ┆ 0           ┆          ┆          ┆   ┆          ┆          ┆          ┆          │\n",
       "│ KENAI        ┆ 20241114094 ┆ 23.9     ┆ 60.7     ┆ … ┆ 0.4      ┆ 3.5      ┆ 116      ┆ 0.0      │\n",
       "│              ┆ 0           ┆          ┆          ┆   ┆          ┆          ┆          ┆          │\n",
       "│ KENAI        ┆ 20241114095 ┆ 23.9     ┆ 57.1     ┆ … ┆ 0.5      ┆ 3.6      ┆ 125      ┆ 0.0      │\n",
       "│              ┆ 0           ┆          ┆          ┆   ┆          ┆          ┆          ┆          │\n",
       "└──────────────┴─────────────┴──────────┴──────────┴───┴──────────┴──────────┴──────────┴──────────┘"
      ]
     },
     "execution_count": 32,
     "metadata": {},
     "output_type": "execute_result"
    }
   ],
   "source": [
    "import polars as pl\n",
    "import glob\n",
    "import os\n",
    "\n",
    "# Folder and pattern\n",
    "folder = 'gawnrb/meteo'\n",
    "pattern = 'VRXZ07.*'\n",
    "\n",
    "# Full search path\n",
    "search_path = os.path.join(folder, pattern)\n",
    "\n",
    "# List all matching files\n",
    "file_paths = glob.glob(search_path)\n",
    "\n",
    "# Read and collect dataframes\n",
    "# dfs = []\n",
    "dfs = pl.DataFrame()\n",
    "for file_path in file_paths:\n",
    "    try:\n",
    "        print(f\"Reading: {file_path}\")\n",
    "        df = pl.read_csv(file_path, separator=';', skip_rows=2)\n",
    "        # dfs.append(df)\n",
    "        print(df.schema)\n",
    "        dfs = pl.concat([dfs, df], how=\"diagonal\")\n",
    "        # print(df)\n",
    "    except Exception as e:\n",
    "        print(f\"Failed to read {file_path}: {e}\")\n",
    "\n",
    "\n",
    "dfs"
   ]
  },
  {
   "cell_type": "code",
   "execution_count": 28,
   "id": "4d486b12",
   "metadata": {},
   "outputs": [
    {
     "data": {
      "text/html": [
       "<div><style>\n",
       ".dataframe > thead > tr,\n",
       ".dataframe > tbody > tr {\n",
       "  text-align: right;\n",
       "  white-space: pre-wrap;\n",
       "}\n",
       "</style>\n",
       "<small>shape: (9, 10)</small><table border=\"1\" class=\"dataframe\"><thead><tr><th>statistic</th><th>Station/Location</th><th>Date</th><th>tre200s0</th><th>uor200s0</th><th>prestas0</th><th>fkl010z0</th><th>fkl010z1</th><th>dkl010z0</th><th>rre150z0</th></tr><tr><td>str</td><td>str</td><td>f64</td><td>str</td><td>str</td><td>str</td><td>str</td><td>f64</td><td>str</td><td>str</td></tr></thead><tbody><tr><td>&quot;count&quot;</td><td>&quot;48&quot;</td><td>48.0</td><td>&quot;48&quot;</td><td>&quot;48&quot;</td><td>&quot;48&quot;</td><td>&quot;48&quot;</td><td>48.0</td><td>&quot;48&quot;</td><td>&quot;48&quot;</td></tr><tr><td>&quot;null_count&quot;</td><td>&quot;0&quot;</td><td>0.0</td><td>&quot;0&quot;</td><td>&quot;0&quot;</td><td>&quot;0&quot;</td><td>&quot;0&quot;</td><td>0.0</td><td>&quot;0&quot;</td><td>&quot;0&quot;</td></tr><tr><td>&quot;mean&quot;</td><td>null</td><td>2.0241e11</td><td>null</td><td>null</td><td>null</td><td>null</td><td>4.008333</td><td>null</td><td>null</td></tr><tr><td>&quot;std&quot;</td><td>null</td><td>61.885275</td><td>null</td><td>null</td><td>null</td><td>null</td><td>0.452808</td><td>null</td><td>null</td></tr><tr><td>&quot;min&quot;</td><td>&quot;KENAI&quot;</td><td>2.0241e11</td><td>&quot;-&quot;</td><td>&quot;-&quot;</td><td>&quot;-&quot;</td><td>&quot;-&quot;</td><td>3.2</td><td>&quot;-&quot;</td><td>&quot;-&quot;</td></tr><tr><td>&quot;25%&quot;</td><td>null</td><td>2.0241e11</td><td>null</td><td>null</td><td>null</td><td>null</td><td>3.7</td><td>null</td><td>null</td></tr><tr><td>&quot;50%&quot;</td><td>null</td><td>2.0241e11</td><td>null</td><td>null</td><td>null</td><td>null</td><td>4.0</td><td>null</td><td>null</td></tr><tr><td>&quot;75%&quot;</td><td>null</td><td>2.0241e11</td><td>null</td><td>null</td><td>null</td><td>null</td><td>4.2</td><td>null</td><td>null</td></tr><tr><td>&quot;max&quot;</td><td>&quot;KENAI&quot;</td><td>2.0241e11</td><td>&quot;24.2&quot;</td><td>&quot;74.4&quot;</td><td>&quot;824.4&quot;</td><td>&quot;3.7&quot;</td><td>5.0</td><td>&quot;84&quot;</td><td>&quot;0.0&quot;</td></tr></tbody></table></div>"
      ],
      "text/plain": [
       "shape: (9, 10)\n",
       "┌────────────┬──────────────┬───────────┬──────────┬───┬──────────┬──────────┬──────────┬──────────┐\n",
       "│ statistic  ┆ Station/Loca ┆ Date      ┆ tre200s0 ┆ … ┆ fkl010z0 ┆ fkl010z1 ┆ dkl010z0 ┆ rre150z0 │\n",
       "│ ---        ┆ tion         ┆ ---       ┆ ---      ┆   ┆ ---      ┆ ---      ┆ ---      ┆ ---      │\n",
       "│ str        ┆ ---          ┆ f64       ┆ str      ┆   ┆ str      ┆ f64      ┆ str      ┆ str      │\n",
       "│            ┆ str          ┆           ┆          ┆   ┆          ┆          ┆          ┆          │\n",
       "╞════════════╪══════════════╪═══════════╪══════════╪═══╪══════════╪══════════╪══════════╪══════════╡\n",
       "│ count      ┆ 48           ┆ 48.0      ┆ 48       ┆ … ┆ 48       ┆ 48.0     ┆ 48       ┆ 48       │\n",
       "│ null_count ┆ 0            ┆ 0.0       ┆ 0        ┆ … ┆ 0        ┆ 0.0      ┆ 0        ┆ 0        │\n",
       "│ mean       ┆ null         ┆ 2.0241e11 ┆ null     ┆ … ┆ null     ┆ 4.008333 ┆ null     ┆ null     │\n",
       "│ std        ┆ null         ┆ 61.885275 ┆ null     ┆ … ┆ null     ┆ 0.452808 ┆ null     ┆ null     │\n",
       "│ min        ┆ KENAI        ┆ 2.0241e11 ┆ -        ┆ … ┆ -        ┆ 3.2      ┆ -        ┆ -        │\n",
       "│ 25%        ┆ null         ┆ 2.0241e11 ┆ null     ┆ … ┆ null     ┆ 3.7      ┆ null     ┆ null     │\n",
       "│ 50%        ┆ null         ┆ 2.0241e11 ┆ null     ┆ … ┆ null     ┆ 4.0      ┆ null     ┆ null     │\n",
       "│ 75%        ┆ null         ┆ 2.0241e11 ┆ null     ┆ … ┆ null     ┆ 4.2      ┆ null     ┆ null     │\n",
       "│ max        ┆ KENAI        ┆ 2.0241e11 ┆ 24.2     ┆ … ┆ 3.7      ┆ 5.0      ┆ 84       ┆ 0.0      │\n",
       "└────────────┴──────────────┴───────────┴──────────┴───┴──────────┴──────────┴──────────┴──────────┘"
      ]
     },
     "execution_count": 28,
     "metadata": {},
     "output_type": "execute_result"
    }
   ],
   "source": [
    "dfs.describe()"
   ]
  },
  {
   "cell_type": "code",
   "execution_count": null,
   "id": "b57c9729",
   "metadata": {},
   "outputs": [
    {
     "data": {
      "text/html": [
       "<div><style>\n",
       ".dataframe > thead > tr,\n",
       ".dataframe > tbody > tr {\n",
       "  text-align: right;\n",
       "  white-space: pre-wrap;\n",
       "}\n",
       "</style>\n",
       "<small>shape: (144, 9)</small><table border=\"1\" class=\"dataframe\"><thead><tr><th>Station/Location</th><th>Date</th><th>tre200s0</th><th>uor200s0</th><th>prestas0</th><th>fkl010z0</th><th>fkl010z1</th><th>dkl010z0</th><th>rre150z0</th></tr><tr><td>str</td><td>str</td><td>str</td><td>str</td><td>str</td><td>str</td><td>str</td><td>str</td><td>str</td></tr></thead><tbody><tr><td>&quot;KENAI&quot;</td><td>&quot;202411140730&quot;</td><td>&quot;21.8&quot;</td><td>&quot;74.4&quot;</td><td>&quot;824.4&quot;</td><td>&quot;3.7&quot;</td><td>&quot;3.7&quot;</td><td>&quot;39&quot;</td><td>&quot;0.0&quot;</td></tr><tr><td>&quot;KENAI&quot;</td><td>&quot;202411140740&quot;</td><td>&quot;21.9&quot;</td><td>&quot;-&quot;</td><td>&quot;824.3&quot;</td><td>&quot;2.1&quot;</td><td>&quot;3.7&quot;</td><td>&quot;-&quot;</td><td>&quot;0.0&quot;</td></tr><tr><td>&quot;KENAI&quot;</td><td>&quot;202411140750&quot;</td><td>&quot;22.0&quot;</td><td>&quot;67.5&quot;</td><td>&quot;824.3&quot;</td><td>&quot;0.6&quot;</td><td>&quot;3.2&quot;</td><td>&quot;59&quot;</td><td>&quot;0.0&quot;</td></tr><tr><td>&quot;KENAI&quot;</td><td>&quot;202411140800&quot;</td><td>&quot;22.7&quot;</td><td>&quot;67.8&quot;</td><td>&quot;824.2&quot;</td><td>&quot;2.7&quot;</td><td>&quot;4.2&quot;</td><td>&quot;36&quot;</td><td>&quot;0.0&quot;</td></tr><tr><td>&quot;KENAI&quot;</td><td>&quot;202411140810&quot;</td><td>&quot;22.5&quot;</td><td>&quot;65.5&quot;</td><td>&quot;824.0&quot;</td><td>&quot;1.8&quot;</td><td>&quot;4.1&quot;</td><td>&quot;80&quot;</td><td>&quot;0.0&quot;</td></tr><tr><td>&hellip;</td><td>&hellip;</td><td>&hellip;</td><td>&hellip;</td><td>&hellip;</td><td>&hellip;</td><td>&hellip;</td><td>&hellip;</td><td>&hellip;</td></tr><tr><td>&quot;KENAI&quot;</td><td>&quot;202411141030&quot;</td><td>&quot;24.9&quot;</td><td>&quot;53.7&quot;</td><td>&quot;821.6&quot;</td><td>&quot;0.7&quot;</td><td>&quot;4.9&quot;</td><td>&quot;77&quot;</td><td>&quot;0.0&quot;</td></tr><tr><td>&quot;KENAI&quot;</td><td>&quot;202411141040&quot;</td><td>&quot;24.9&quot;</td><td>&quot;53.4&quot;</td><td>&quot;821.5&quot;</td><td>&quot;2.2&quot;</td><td>&quot;5.3&quot;</td><td>&quot;52&quot;</td><td>&quot;0.0&quot;</td></tr><tr><td>&quot;KENAI&quot;</td><td>&quot;202411141050&quot;</td><td>&quot;24.3&quot;</td><td>&quot;55.0&quot;</td><td>&quot;821.2&quot;</td><td>&quot;2.7&quot;</td><td>&quot;4.5&quot;</td><td>&quot;351&quot;</td><td>&quot;0.0&quot;</td></tr><tr><td>&quot;KENAI&quot;</td><td>&quot;202411141100&quot;</td><td>&quot;25.1&quot;</td><td>&quot;54.8&quot;</td><td>&quot;821.2&quot;</td><td>&quot;0.9&quot;</td><td>&quot;4.3&quot;</td><td>&quot;63&quot;</td><td>&quot;0.0&quot;</td></tr><tr><td>&quot;KENAI&quot;</td><td>&quot;202411141110&quot;</td><td>&quot;25.9&quot;</td><td>&quot;53.1&quot;</td><td>&quot;820.9&quot;</td><td>&quot;0.8&quot;</td><td>&quot;4.9&quot;</td><td>&quot;98&quot;</td><td>&quot;0.0&quot;</td></tr></tbody></table></div>"
      ],
      "text/plain": [
       "shape: (144, 9)\n",
       "┌──────────────┬─────────────┬──────────┬──────────┬───┬──────────┬──────────┬──────────┬──────────┐\n",
       "│ Station/Loca ┆ Date        ┆ tre200s0 ┆ uor200s0 ┆ … ┆ fkl010z0 ┆ fkl010z1 ┆ dkl010z0 ┆ rre150z0 │\n",
       "│ tion         ┆ ---         ┆ ---      ┆ ---      ┆   ┆ ---      ┆ ---      ┆ ---      ┆ ---      │\n",
       "│ ---          ┆ str         ┆ str      ┆ str      ┆   ┆ str      ┆ str      ┆ str      ┆ str      │\n",
       "│ str          ┆             ┆          ┆          ┆   ┆          ┆          ┆          ┆          │\n",
       "╞══════════════╪═════════════╪══════════╪══════════╪═══╪══════════╪══════════╪══════════╪══════════╡\n",
       "│ KENAI        ┆ 20241114073 ┆ 21.8     ┆ 74.4     ┆ … ┆ 3.7      ┆ 3.7      ┆ 39       ┆ 0.0      │\n",
       "│              ┆ 0           ┆          ┆          ┆   ┆          ┆          ┆          ┆          │\n",
       "│ KENAI        ┆ 20241114074 ┆ 21.9     ┆ -        ┆ … ┆ 2.1      ┆ 3.7      ┆ -        ┆ 0.0      │\n",
       "│              ┆ 0           ┆          ┆          ┆   ┆          ┆          ┆          ┆          │\n",
       "│ KENAI        ┆ 20241114075 ┆ 22.0     ┆ 67.5     ┆ … ┆ 0.6      ┆ 3.2      ┆ 59       ┆ 0.0      │\n",
       "│              ┆ 0           ┆          ┆          ┆   ┆          ┆          ┆          ┆          │\n",
       "│ KENAI        ┆ 20241114080 ┆ 22.7     ┆ 67.8     ┆ … ┆ 2.7      ┆ 4.2      ┆ 36       ┆ 0.0      │\n",
       "│              ┆ 0           ┆          ┆          ┆   ┆          ┆          ┆          ┆          │\n",
       "│ KENAI        ┆ 20241114081 ┆ 22.5     ┆ 65.5     ┆ … ┆ 1.8      ┆ 4.1      ┆ 80       ┆ 0.0      │\n",
       "│              ┆ 0           ┆          ┆          ┆   ┆          ┆          ┆          ┆          │\n",
       "│ …            ┆ …           ┆ …        ┆ …        ┆ … ┆ …        ┆ …        ┆ …        ┆ …        │\n",
       "│ KENAI        ┆ 20241114103 ┆ 24.9     ┆ 53.7     ┆ … ┆ 0.7      ┆ 4.9      ┆ 77       ┆ 0.0      │\n",
       "│              ┆ 0           ┆          ┆          ┆   ┆          ┆          ┆          ┆          │\n",
       "│ KENAI        ┆ 20241114104 ┆ 24.9     ┆ 53.4     ┆ … ┆ 2.2      ┆ 5.3      ┆ 52       ┆ 0.0      │\n",
       "│              ┆ 0           ┆          ┆          ┆   ┆          ┆          ┆          ┆          │\n",
       "│ KENAI        ┆ 20241114105 ┆ 24.3     ┆ 55.0     ┆ … ┆ 2.7      ┆ 4.5      ┆ 351      ┆ 0.0      │\n",
       "│              ┆ 0           ┆          ┆          ┆   ┆          ┆          ┆          ┆          │\n",
       "│ KENAI        ┆ 20241114110 ┆ 25.1     ┆ 54.8     ┆ … ┆ 0.9      ┆ 4.3      ┆ 63       ┆ 0.0      │\n",
       "│              ┆ 0           ┆          ┆          ┆   ┆          ┆          ┆          ┆          │\n",
       "│ KENAI        ┆ 20241114111 ┆ 25.9     ┆ 53.1     ┆ … ┆ 0.8      ┆ 4.9      ┆ 98       ┆ 0.0      │\n",
       "│              ┆ 0           ┆          ┆          ┆   ┆          ┆          ┆          ┆          │\n",
       "└──────────────┴─────────────┴──────────┴──────────┴───┴──────────┴──────────┴──────────┴──────────┘"
      ]
     },
     "execution_count": 23,
     "metadata": {},
     "output_type": "execute_result"
    }
   ],
   "source": [
    "dfs_casted = [df.cast(pl.String) for df in dfs]\n",
    "combined_df = pl.concat(dfs_casted)\n",
    "combined_df = pl.concat([combined_df, dfs_casted)\n",
    "\n",
    "combined_df"
   ]
  },
  {
   "cell_type": "code",
   "execution_count": 29,
   "id": "0a701295",
   "metadata": {},
   "outputs": [
    {
     "ename": "AttributeError",
     "evalue": "'Series' object has no attribute 'columns'",
     "output_type": "error",
     "traceback": [
      "\u001b[31m---------------------------------------------------------------------------\u001b[39m",
      "\u001b[31mAttributeError\u001b[39m                            Traceback (most recent call last)",
      "\u001b[36mCell\u001b[39m\u001b[36m \u001b[39m\u001b[32mIn[29]\u001b[39m\u001b[32m, line 10\u001b[39m\n\u001b[32m      7\u001b[39m \u001b[38;5;66;03m# Step 2: Identify float-able columns (skip metadata like \"timestamp\" or \"id\" if needed)\u001b[39;00m\n\u001b[32m      8\u001b[39m \u001b[38;5;66;03m# For example, assuming you want to exclude 'timestamp' and 'source_file':\u001b[39;00m\n\u001b[32m      9\u001b[39m exclude_columns = {\u001b[33m\"\u001b[39m\u001b[33mtimestamp\u001b[39m\u001b[33m\"\u001b[39m, \u001b[33m\"\u001b[39m\u001b[33msource_file\u001b[39m\u001b[33m\"\u001b[39m}\n\u001b[32m---> \u001b[39m\u001b[32m10\u001b[39m float_columns = [col \u001b[38;5;28;01mfor\u001b[39;00m col \u001b[38;5;129;01min\u001b[39;00m \u001b[43mcombined_df\u001b[49m\u001b[43m.\u001b[49m\u001b[43mcolumns\u001b[49m \u001b[38;5;28;01mif\u001b[39;00m col \u001b[38;5;129;01mnot\u001b[39;00m \u001b[38;5;129;01min\u001b[39;00m exclude_columns]\n\u001b[32m     12\u001b[39m \u001b[38;5;66;03m# Step 3: Convert these to float\u001b[39;00m\n\u001b[32m     13\u001b[39m combined_df = combined_df.with_columns([\n\u001b[32m     14\u001b[39m     pl.col(col).cast(pl.Float64, strict=\u001b[38;5;28;01mFalse\u001b[39;00m) \u001b[38;5;28;01mfor\u001b[39;00m col \u001b[38;5;129;01min\u001b[39;00m float_columns\n\u001b[32m     15\u001b[39m ])\n",
      "\u001b[31mAttributeError\u001b[39m: 'Series' object has no attribute 'columns'"
     ]
    }
   ],
   "source": [
    "import polars as pl\n",
    "\n",
    "# Step 1: Cast all input dfs to string for safe concat\n",
    "dfs_casted = [df.cast(pl.String) for df in dfs]\n",
    "combined_df = pl.concat(dfs_casted)\n",
    "\n",
    "# Step 2: Identify float-able columns (skip metadata like \"timestamp\" or \"id\" if needed)\n",
    "# For example, assuming you want to exclude 'timestamp' and 'source_file':\n",
    "exclude_columns = {\"timestamp\", \"source_file\"}\n",
    "float_columns = [col for col in combined_df.columns if col not in exclude_columns]\n",
    "\n",
    "# Step 3: Convert these to float\n",
    "combined_df = combined_df.with_columns([\n",
    "    pl.col(col).cast(pl.Float64, strict=False) for col in float_columns\n",
    "])\n",
    "\n",
    "# Final result\n",
    "print(combined_df)\n"
   ]
  },
  {
   "cell_type": "code",
   "execution_count": 25,
   "id": "844fb5e5",
   "metadata": {},
   "outputs": [],
   "source": [
    "combined_df.write_csv(\"D:/KADI-ASSIGNMENT/meteo.data.csv\")"
   ]
  }
 ],
 "metadata": {
  "kernelspec": {
   "display_name": ".venv",
   "language": "python",
   "name": "python3"
  },
  "language_info": {
   "codemirror_mode": {
    "name": "ipython",
    "version": 3
   },
   "file_extension": ".py",
   "mimetype": "text/x-python",
   "name": "python",
   "nbconvert_exporter": "python",
   "pygments_lexer": "ipython3",
   "version": "3.12.4"
  }
 },
 "nbformat": 4,
 "nbformat_minor": 5
}
