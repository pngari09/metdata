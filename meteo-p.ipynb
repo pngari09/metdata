{
 "cells": [
  {
   "cell_type": "code",
   "execution_count": null,
   "id": "da86e64a",
   "metadata": {},
   "outputs": [],
   "source": [
    "#read and process meteo bullentins of type VRXA00\n",
    "\n",
    "# 1. read file as text and print\n",
    "# 2. read file into a polars dataframe"
   ]
  },
  {
   "cell_type": "code",
   "execution_count": 7,
   "id": "247a79ad",
   "metadata": {},
   "outputs": [
    {
     "name": "stdout",
     "output_type": "stream",
     "text": [
      "DATA/meteo/VRXA00.202310190000\n"
     ]
    }
   ],
   "source": [
    "file_path =\"DATA/meteo/VRXA00.202310190000\"\n",
    "print(file_path)"
   ]
  },
  {
   "cell_type": "code",
   "execution_count": 16,
   "id": "d41dd5ba",
   "metadata": {},
   "outputs": [
    {
     "name": "stdout",
     "output_type": "stream",
     "text": [
      "['15834\\n', 'VRXA00 LSSW 190000\\n', '\\n', 'iii zzzztttt tre200s0 uor200s0 prestas0 fa1010z0 da1010z0 rre150z0 ta1200s0 ua1200s0 pa1stas0 fkl010z0 dkl010z0 ra1150z0 fkl010z1 gor000z0 ta2200s0 ua2200s0\\n', '187 202310190000 005.1 096.9 0661.2 001.9 190.4 00000.00 004.9 099.7 0661.1 002.3 233.5 00000.00 003.1 000.0 5.440 99.260\\n']\n"
     ]
    }
   ],
   "source": [
    "with open(file=file_path) as fh:\n",
    "    file_content=fh.readlines()\n",
    "\n",
    "print(file_content)\n",
    "\n"
   ]
  },
  {
   "cell_type": "code",
   "execution_count": 36,
   "id": "38c9be1e",
   "metadata": {},
   "outputs": [
    {
     "name": "stdout",
     "output_type": "stream",
     "text": [
      "iii zzzztttt tre200s0 uor200s0 prestas0 fa1010z0 da1010z0 rre150z0 ta1200s0 ua1200s0 pa1stas0 fkl010z0 dkl010z0 ra1150z0 fkl010z1 gor000z0 ta2200s0 ua2200s0\n",
      "\n"
     ]
    }
   ],
   "source": [
    "header=file_content[3]\n",
    "print(header)\n",
    "\n"
   ]
  },
  {
   "cell_type": "code",
   "execution_count": 38,
   "id": "4ee0a538",
   "metadata": {},
   "outputs": [
    {
     "name": "stdout",
     "output_type": "stream",
     "text": [
      "['iii', 'zzzztttt', 'tre200s0', 'uor200s0', 'prestas0', 'fa1010z0', 'da1010z0', 'rre150z0', 'ta1200s0', 'ua1200s0', 'pa1stas0', 'fkl010z0', 'dkl010z0', 'ra1150z0', 'fkl010z1', 'gor000z0', 'ta2200s0', 'ua2200s0']\n"
     ]
    }
   ],
   "source": [
    "header_list=header.split()\n",
    "print(header_list)"
   ]
  },
  {
   "cell_type": "code",
   "execution_count": null,
   "id": "0e234f54",
   "metadata": {},
   "outputs": [],
   "source": [
    "#extract the header element for temperature (tre200s0)\n",
    "#extracat the corresponding tempeture reading \n",
    "# print the results as follows: tre200s = 0.07.3"
   ]
  },
  {
   "cell_type": "code",
   "execution_count": 44,
   "id": "99c290e4",
   "metadata": {},
   "outputs": [
    {
     "name": "stdout",
     "output_type": "stream",
     "text": [
      "List of header elements: ['iii', 'zzzztttt', 'tre200s0', 'uor200s0', 'prestas0', 'fa1010z0', 'da1010z0', 'rre150z0', 'ta1200s0', 'ua1200s0', 'pa1stas0', 'fkl010z0', 'dkl010z0', 'ra1150z0', 'fkl010z1', 'gor000z0', 'ta2200s0', 'ua2200s0']\n",
      "Second header element: tre200s0\n"
     ]
    }
   ],
   "source": [
    "header_list = header.split()\n",
    "print(\"List of header elements:\", header_list)\n",
    "\n",
    "# Read the 2nd value (index 1 because Python lists are 0-indexed)\n",
    "second_value = header_list[2]\n",
    "print(\"Second header element:\", second_value)"
   ]
  },
  {
   "cell_type": "code",
   "execution_count": 66,
   "id": "5d711d67",
   "metadata": {},
   "outputs": [
    {
     "name": "stdout",
     "output_type": "stream",
     "text": [
      "tre200s0\n"
     ]
    }
   ],
   "source": [
    "print(header_list[2])"
   ]
  },
  {
   "cell_type": "code",
   "execution_count": 70,
   "id": "01a2597e",
   "metadata": {},
   "outputs": [
    {
     "name": "stdout",
     "output_type": "stream",
     "text": [
      "187 202310190000 005.1 096.9 0661.2 001.9 190.4 00000.00 004.9 099.7 0661.1 002.3 233.5 00000.00 003.1 000.0 5.440 99.260\n",
      "\n",
      "['187', '202310190000', '005.1', '096.9', '0661.2', '001.9', '190.4', '00000.00', '004.9', '099.7', '0661.1', '002.3', '233.5', '00000.00', '003.1', '000.0', '5.440', '99.260']\n"
     ]
    }
   ],
   "source": [
    "tempname=file_content[4]\n",
    "print(tempname)\n",
    "tempname=tempname.split()\n",
    "\n",
    "print(tempname)\n",
    "\n"
   ]
  },
  {
   "cell_type": "code",
   "execution_count": 71,
   "id": "53d0e7d8",
   "metadata": {},
   "outputs": [
    {
     "name": "stdout",
     "output_type": "stream",
     "text": [
      "005.1\n"
     ]
    }
   ],
   "source": [
    "\n",
    "print(tempname[2])\n",
    "\n",
    "\n",
    "\n",
    "\n",
    "\n",
    "\n"
   ]
  },
  {
   "cell_type": "code",
   "execution_count": 64,
   "id": "e974d016",
   "metadata": {},
   "outputs": [
    {
     "name": "stdout",
     "output_type": "stream",
     "text": [
      "7\n"
     ]
    }
   ],
   "source": [
    "print(tempvalue[2])"
   ]
  },
  {
   "cell_type": "code",
   "execution_count": 65,
   "id": "96f9360a",
   "metadata": {},
   "outputs": [
    {
     "name": "stdout",
     "output_type": "stream",
     "text": [
      "tre200s0 7\n"
     ]
    }
   ],
   "source": [
    "print(second_value,tempvalue[2])"
   ]
  },
  {
   "cell_type": "code",
   "execution_count": null,
   "id": "5244b1f9",
   "metadata": {},
   "outputs": [
    {
     "ename": "IndentationError",
     "evalue": "unexpected indent (1791068767.py, line 3)",
     "output_type": "error",
     "traceback": [
      "  \u001b[36mCell\u001b[39m\u001b[36m \u001b[39m\u001b[32mIn[82]\u001b[39m\u001b[32m, line 3\u001b[39m\n\u001b[31m    \u001b[39m\u001b[31mprint(i, \":\" a)\u001b[39m\n    ^\n\u001b[31mIndentationError\u001b[39m\u001b[31m:\u001b[39m unexpected indent\n"
     ]
    }
   ],
   "source": [
    "for i in range (10):\n",
    "    a = a + i\n",
    "    print(i, \":\" a)  "
   ]
  },
  {
   "cell_type": "code",
   "execution_count": null,
   "id": "c6159cf8",
   "metadata": {},
   "outputs": [
    {
     "ename": "SyntaxError",
     "evalue": "positional argument follows keyword argument (3299162188.py, line 18)",
     "output_type": "error",
     "traceback": [
      "  \u001b[36mCell\u001b[39m\u001b[36m \u001b[39m\u001b[32mIn[90]\u001b[39m\u001b[32m, line 18\u001b[39m\n\u001b[31m    \u001b[39m\u001b[31mwith open(file=os,path.join(path, file)) as fh:\u001b[39m\n                                           ^\n\u001b[31mSyntaxError\u001b[39m\u001b[31m:\u001b[39m positional argument follows keyword argument\n"
     ]
    }
   ],
   "source": [
    "import os\n",
    "path = \"DATA/meteo\"\n",
    "\n",
    "#  list all files in path\n",
    "\n",
    "file =os.listdir(path)\n",
    "\n",
    "temperatures = list()\n",
    "\n",
    "\n",
    "for files in file:\n",
    "    if \"zip\" in file:\n",
    "        continue\n",
    "    else:\n",
    "        #Datetime - file.split(sep=\",\")[1]\n",
    "        datetime=file.replace(\"VRXA00.\",\"\")\n",
    "        datetimes.append(datetime)\n",
    "\n",
    "\n",
    "#read file and extract the content\n",
    "\n",
    "with open(file=os,path.join(path, file)) as fh:\n",
    "    file_content=fh.readlines()\n",
    "\n",
    "temp=file_content[4].split()[2]\n",
    "print(file,\"temp\", temp)\n",
    "\n",
    "print(temperatures)\n",
    "print(datetimes)\n",
    "\n"
   ]
  }
 ],
 "metadata": {
  "kernelspec": {
   "display_name": ".venv",
   "language": "python",
   "name": "python3"
  },
  "language_info": {
   "codemirror_mode": {
    "name": "ipython",
    "version": 3
   },
   "file_extension": ".py",
   "mimetype": "text/x-python",
   "name": "python",
   "nbconvert_exporter": "python",
   "pygments_lexer": "ipython3",
   "version": "3.12.4"
  }
 },
 "nbformat": 4,
 "nbformat_minor": 5
}
