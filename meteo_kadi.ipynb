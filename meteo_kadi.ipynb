{
 "cells": [
  {
   "cell_type": "markdown",
   "id": "69d2d45d",
   "metadata": {},
   "source": [
    "# Read and process meteo bulletins of type VRXA00\n",
    "\n",
    "1. Read file as text and print its content\n",
    "2. Read file into a Polars dataframe"
   ]
  },
  {
   "cell_type": "code",
   "execution_count": null,
   "id": "077d0f75",
   "metadata": {},
   "outputs": [],
   "source": []
  },
  {
   "cell_type": "code",
   "execution_count": 1,
   "id": "cc6251ee",
   "metadata": {},
   "outputs": [
    {
     "name": "stdout",
     "output_type": "stream",
     "text": [
      "data/meteo/VRXA00.202310190530\n"
     ]
    }
   ],
   "source": [
    "file_path = \"data/meteo/VRXA00.202310190530\"\n",
    "print(file_path)\n"
   ]
  },
  {
   "cell_type": "code",
   "execution_count": 2,
   "id": "b1f34a40",
   "metadata": {},
   "outputs": [
    {
     "name": "stdout",
     "output_type": "stream",
     "text": [
      "['16082\\n', 'VRXA00 LSSW 190530\\n', '\\n', 'iii zzzztttt tre200s0 uor200s0 prestas0 fa1010z0 da1010z0 rre150z0 ta1200s0 ua1200s0 pa1stas0 fkl010z0 dkl010z0 ra1150z0 fkl010z1 gor000z0 ta2200s0 ua2200s0\\n', '187 202310190530 007.3 098.6 0662.9 003.4 329.6 00000.00 006.8 100.0 0662.7 003.9 008.6 00000.00 004.8 283.9 7.770 99.320\\n']\n"
     ]
    }
   ],
   "source": [
    "# Read file as text and print content\n",
    "with open(file=file_path) as fh:\n",
    "    file_content = fh.readlines()\n",
    "\n",
    "print(file_content)"
   ]
  },
  {
   "cell_type": "code",
   "execution_count": 3,
   "id": "abbc5a4b",
   "metadata": {},
   "outputs": [
    {
     "name": "stdout",
     "output_type": "stream",
     "text": [
      "iii zzzztttt tre200s0 uor200s0 prestas0 fa1010z0 da1010z0 rre150z0 ta1200s0 ua1200s0 pa1stas0 fkl010z0 dkl010z0 ra1150z0 fkl010z1 gor000z0 ta2200s0 ua2200s0\n",
      "\n"
     ]
    }
   ],
   "source": [
    "header = file_content[3]\n",
    "print(header)"
   ]
  },
  {
   "cell_type": "code",
   "execution_count": 4,
   "id": "2476e912",
   "metadata": {},
   "outputs": [
    {
     "name": "stdout",
     "output_type": "stream",
     "text": [
      "list of header elements: ['iii', 'zzzztttt', 'tre200s0', 'uor200s0', 'prestas0', 'fa1010z0', 'da1010z0', 'rre150z0', 'ta1200s0', 'ua1200s0', 'pa1stas0', 'fkl010z0', 'dkl010z0', 'ra1150z0', 'fkl010z1', 'gor000z0', 'ta2200s0', 'ua2200s0']\n"
     ]
    }
   ],
   "source": [
    "header_list = header.split()\n",
    "print(\"list of header elements:\", header_list)"
   ]
  },
  {
   "cell_type": "markdown",
   "id": "4e6a2da6",
   "metadata": {},
   "source": [
    "Assignment:\n",
    "1. Extract the header element for temperature (tre200s0).\n",
    "2. Extract the corresponding temperature reading.\n",
    "3. Print the result as follows: _tre200s = 007.3 °C_"
   ]
  },
  {
   "cell_type": "code",
   "execution_count": 5,
   "id": "3ba377f7",
   "metadata": {},
   "outputs": [
    {
     "name": "stdout",
     "output_type": "stream",
     "text": [
      "iii zzzztttt tre200s0 uor200s0 prestas0 fa1010z0 da1010z0 rre150z0 ta1200s0 ua1200s0 pa1stas0 fkl010z0 dkl010z0 ra1150z0 fkl010z1 gor000z0 ta2200s0 ua2200s0\n",
      "\n"
     ]
    }
   ],
   "source": [
    "headers=file_content[3]\n",
    "print(headers)"
   ]
  },
  {
   "cell_type": "code",
   "execution_count": 6,
   "id": "40350f24",
   "metadata": {},
   "outputs": [
    {
     "name": "stdout",
     "output_type": "stream",
     "text": [
      "['187', '202310190530', '007.3', '098.6', '0662.9', '003.4', '329.6', '00000.00', '006.8', '100.0', '0662.7', '003.9', '008.6', '00000.00', '004.8', '283.9', '7.770', '99.320']\n"
     ]
    }
   ],
   "source": [
    "values=file_content[4].split()\n",
    "print(values)"
   ]
  },
  {
   "cell_type": "code",
   "execution_count": 7,
   "id": "5539aca7",
   "metadata": {},
   "outputs": [
    {
     "name": "stdout",
     "output_type": "stream",
     "text": [
      "temperature value: 007.3\n"
     ]
    }
   ],
   "source": [
    "temp=values[2]\n",
    "print(\"temperature value:\",temp)"
   ]
  },
  {
   "cell_type": "code",
   "execution_count": 8,
   "id": "b62cff36",
   "metadata": {},
   "outputs": [
    {
     "name": "stdout",
     "output_type": "stream",
     "text": [
      "value: 007.3\n",
      "type of value: <class 'str'>\n",
      "value as floating point number: 7.3\n",
      "type of the rounded value: <class 'int'>\n"
     ]
    }
   ],
   "source": [
    "value=file_content[4].split()[2]\n",
    "print(\"value:\", value)\n",
    "print(\"type of value:\", type(value))\n",
    "# print(int(value))\n",
    "print(\"value as floating point number:\", float(value))\n",
    "print(\"type of the rounded value:\", type(round(float(value))))\n"
   ]
  },
  {
   "cell_type": "code",
   "execution_count": 9,
   "id": "79091527",
   "metadata": {},
   "outputs": [
    {
     "name": "stdout",
     "output_type": "stream",
     "text": [
      "0 : 1\n",
      "1 : 2\n",
      "2 : 4\n",
      "3 : 7\n",
      "4 : 11\n",
      "5 : 16\n",
      "6 : a is too big\n",
      "7 : a is too big\n",
      "8 : a is too big\n",
      "9 : a is too big\n"
     ]
    }
   ],
   "source": [
    "a = 1\n",
    "\n",
    "for i in range(10):\n",
    "    # a += 1\n",
    "    a = a + i\n",
    "    if a < 20:\n",
    "        print(i, \":\", a)\n",
    "    else:\n",
    "        print(i, \":\", \"a is too big\")"
   ]
  },
  {
   "cell_type": "code",
   "execution_count": 10,
   "id": "575eb8c5",
   "metadata": {},
   "outputs": [
    {
     "name": "stdout",
     "output_type": "stream",
     "text": [
      "VRXA00.202310190000\n",
      "VRXA00.202310190520\n",
      "VRXA00.202310190530\n",
      "VRXA00.202310190540\n",
      "VRXA00.202310190600\n",
      "VRXA00.202310190610\n",
      "VRXA00.202310190630\n",
      "VRXA00.202310190640\n",
      "VRXA00.202310190650\n",
      "VRXA00.202310190700\n",
      "VRXA00.202401111520\n",
      "VRXA00.202401111530\n",
      "VRXA00.202401111540\n"
     ]
    }
   ],
   "source": [
    "import os\n",
    "path = \"data/meteo\"\n",
    "\n",
    "files = os.listdir(path)\n",
    "\n",
    "for file in files:\n",
    "    if \".zip\" in file:\n",
    "        continue\n",
    "    else:\n",
    "        print(file)\n"
   ]
  },
  {
   "cell_type": "code",
   "execution_count": 11,
   "id": "f2bef175",
   "metadata": {},
   "outputs": [
    {
     "name": "stdout",
     "output_type": "stream",
     "text": [
      "VRXA00.202310190000 temp= 005.1\n",
      "VRXA00.202310190520 temp= /\n",
      "VRXA00.202310190530 temp= 007.3\n",
      "VRXA00.202310190540 temp= 007.0\n",
      "VRXA00.202310190600 temp= 007.8\n",
      "VRXA00.202310190610 temp= 008.6\n",
      "VRXA00.202310190630 temp= 008.0\n",
      "VRXA00.202310190640 temp= 008.1\n",
      "VRXA00.202310190650 temp= 008.5\n",
      "VRXA00.202310190700 temp= 008.6\n",
      "VRXA00.202401111520 temp= /\n",
      "VRXA00.202401111530 temp= /\n",
      "VRXA00.202401111540 temp= /\n"
     ]
    }
   ],
   "source": [
    "import os\n",
    "path = \"data/meteo\"\n",
    "\n",
    "files = os.listdir(path)\n",
    "\n",
    "for file in files:\n",
    "    if \".zip\" in file:\n",
    "        continue\n",
    "    else:\n",
    "        # print(file)\n",
    "\n",
    "        # Read file as text and print content\n",
    "        with open(file=os.path.join(path, file)) as fh:\n",
    "            file_content = fh.readlines()\n",
    "\n",
    "        temp = file_content[4].split()[2]\n",
    "        print(file, \"temp=\", temp)\n"
   ]
  },
  {
   "cell_type": "code",
   "execution_count": 12,
   "id": "a7597c25",
   "metadata": {},
   "outputs": [
    {
     "name": "stdout",
     "output_type": "stream",
     "text": [
      "['005.1', '/', '007.3', '007.0', '007.8', '008.6', '008.0', '008.1', '008.5', '008.6', '/', '/', '/']\n"
     ]
    }
   ],
   "source": [
    "import os\n",
    "path = \"data/meteo\"\n",
    "\n",
    "files = os.listdir(path)\n",
    "\n",
    "temperatures = list()\n",
    "\n",
    "for file in files:\n",
    "    if \".zip\" in file:\n",
    "        continue\n",
    "    else:\n",
    "        # print(file)\n",
    "\n",
    "        # Read file as text and print content\n",
    "        with open(file=os.path.join(path, file)) as fh:\n",
    "            file_content = fh.readlines()\n",
    "\n",
    "        temp = file_content[4].split()[2]\n",
    "        temperatures.append(temp)\n",
    "\n",
    "print(temperatures)\n"
   ]
  },
  {
   "cell_type": "code",
   "execution_count": 13,
   "id": "6ce5ffdd",
   "metadata": {},
   "outputs": [
    {
     "name": "stdout",
     "output_type": "stream",
     "text": [
      "['202310190000', '202310190520', '202310190530', '202310190540', '202310190600', '202310190610', '202310190630', '202310190640', '202310190650', '202310190700', '202401111520', '202401111530', '202401111540']\n",
      "['005.1', '/', '007.3', '007.0', '007.8', '008.6', '008.0', '008.1', '008.5', '008.6', '/', '/', '/']\n"
     ]
    }
   ],
   "source": [
    "import os\n",
    "path = \"data/meteo\"\n",
    "\n",
    "datetimes = list()\n",
    "temperatures = list()\n",
    "\n",
    "# list all files in path\n",
    "files = os.listdir(path)\n",
    "\n",
    "for file in files:\n",
    "    if \".zip\" in file:\n",
    "        continue\n",
    "    else:\n",
    "        # datetime = file.split(sep=\".\")[1]\n",
    "        datetime = file.replace(\"VRXA00.\", \"\")\n",
    "        datetimes.append(datetime)\n",
    "\n",
    "        # Read file as text and print content\n",
    "        with open(file=os.path.join(path, file)) as fh:\n",
    "            file_content = fh.readlines()\n",
    "\n",
    "        temperature = file_content[4].split()[2]\n",
    "        temperatures.append(temperature)\n",
    "\n",
    "print(datetimes)\n",
    "print(temperatures)\n"
   ]
  },
  {
   "cell_type": "code",
   "execution_count": 14,
   "id": "255ccf43",
   "metadata": {},
   "outputs": [
    {
     "name": "stdout",
     "output_type": "stream",
     "text": [
      "['202310190000', '202310190520', '202310190530', '202310190540', '202310190600', '202310190610', '202310190630', '202310190640', '202310190650', '202310190700', '202401111520', '202401111530', '202401111540']\n",
      "[5.1, None, 7.3, 7.0, 7.8, 8.6, 8.0, 8.1, 8.5, 8.6, None, None, None]\n"
     ]
    }
   ],
   "source": [
    "import os\n",
    "path = \"data/meteo\"\n",
    "\n",
    "datetimes = list()\n",
    "temperatures = list()\n",
    "\n",
    "# list all files in path\n",
    "files = os.listdir(path)\n",
    "\n",
    "for file in files:\n",
    "    if \".zip\" in file:\n",
    "        continue\n",
    "    else:\n",
    "        # datetime = file.split(sep=\".\")[1]\n",
    "        datetime = file.replace(\"VRXA00.\", \"\")\n",
    "        datetimes.append(datetime)\n",
    "\n",
    "        # Read file as text and print content\n",
    "        with open(file=os.path.join(path, file)) as fh:\n",
    "            file_content = fh.readlines()\n",
    "\n",
    "        temperature = file_content[4].split()[2]\n",
    "        try:\n",
    "            temperature = float(temperature)\n",
    "        except:\n",
    "            temperature = None\n",
    "        temperatures.append(temperature)\n",
    "\n",
    "print(datetimes)\n",
    "print(temperatures)\n"
   ]
  },
  {
   "cell_type": "code",
   "execution_count": null,
   "id": "3f5da031",
   "metadata": {},
   "outputs": [],
   "source": []
  }
 ],
 "metadata": {
  "kernelspec": {
   "display_name": ".venv",
   "language": "python",
   "name": "python3"
  },
  "language_info": {
   "codemirror_mode": {
    "name": "ipython",
    "version": 3
   },
   "file_extension": ".py",
   "mimetype": "text/x-python",
   "name": "python",
   "nbconvert_exporter": "python",
   "pygments_lexer": "ipython3",
   "version": "3.12.4"
  }
 },
 "nbformat": 4,
 "nbformat_minor": 5
}
