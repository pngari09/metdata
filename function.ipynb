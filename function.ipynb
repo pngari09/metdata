{
 "cells": [
  {
   "cell_type": "code",
   "execution_count": 3,
   "id": "39632a2d",
   "metadata": {},
   "outputs": [],
   "source": [
    "def sum(a: float, b: float) -> float:\n",
    "    return a+b\n",
    "c=sum(2,7.5)"
   ]
  },
  {
   "cell_type": "code",
   "execution_count": 5,
   "id": "78af6688",
   "metadata": {},
   "outputs": [
    {
     "name": "stdout",
     "output_type": "stream",
     "text": [
      "10\n"
     ]
    }
   ],
   "source": [
    "def multiply(a: int, b: float=3.14159) -> float:\n",
    "    return a * b\n",
    "result=multiply(2, 5)\n",
    "\n",
    "print(result)"
   ]
  },
  {
   "cell_type": "code",
   "execution_count": 14,
   "id": "debec678",
   "metadata": {},
   "outputs": [
    {
     "name": "stdout",
     "output_type": "stream",
     "text": [
      "31.4159\n"
     ]
    }
   ],
   "source": [
    "def complex(a: int, b: int) -> float:\n",
    "    c=float(sum(a,b))\n",
    "    d=multiply(c)\n",
    "    return d\n",
    "print(complex(2,8))"
   ]
  }
 ],
 "metadata": {
  "kernelspec": {
   "display_name": ".venv",
   "language": "python",
   "name": "python3"
  },
  "language_info": {
   "codemirror_mode": {
    "name": "ipython",
    "version": 3
   },
   "file_extension": ".py",
   "mimetype": "text/x-python",
   "name": "python",
   "nbconvert_exporter": "python",
   "pygments_lexer": "ipython3",
   "version": "3.12.4"
  }
 },
 "nbformat": 4,
 "nbformat_minor": 5
}
