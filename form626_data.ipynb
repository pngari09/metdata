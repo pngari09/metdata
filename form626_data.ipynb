import pandas as pd

df = pd.read_csv("D:/kadi-lesson/Git/metdata/FORM626.csv", encoding='latin1')
print(df.head)
