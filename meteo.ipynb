{
 "cells": [
  {
   "cell_type": "markdown",
   "id": "69d2d45d",
   "metadata": {},
   "source": [
    "# Read and process meteo bulletins of type VRXA00\n",
    "\n",
    "1. Read file as text and print its content\n",
    "2. Read file into a Polars dataframe"
   ]
  },
  {
   "cell_type": "code",
   "execution_count": 1,
   "id": "cc6251ee",
   "metadata": {},
   "outputs": [
    {
     "name": "stdout",
     "output_type": "stream",
     "text": [
      "data/meteo/VRXA00.202310190530\n"
     ]
    }
   ],
   "source": [
    "file_path = \"data/meteo/VRXA00.202310190530\"\n",
    "print(file_path)\n"
   ]
  },
  {
   "cell_type": "code",
   "execution_count": 2,
   "id": "b1f34a40",
   "metadata": {},
   "outputs": [
    {
     "name": "stdout",
     "output_type": "stream",
     "text": [
      "['16082\\n', 'VRXA00 LSSW 190530\\n', '\\n', 'iii zzzztttt tre200s0 uor200s0 prestas0 fa1010z0 da1010z0 rre150z0 ta1200s0 ua1200s0 pa1stas0 fkl010z0 dkl010z0 ra1150z0 fkl010z1 gor000z0 ta2200s0 ua2200s0\\n', '187 202310190530 007.3 098.6 0662.9 003.4 329.6 00000.00 006.8 100.0 0662.7 003.9 008.6 00000.00 004.8 283.9 7.770 99.320\\n']\n"
     ]
    }
   ],
   "source": [
    "# Read file as text and print content\n",
    "with open(file=file_path) as fh:\n",
    "    file_content = fh.readlines()\n",
    "\n",
    "print(file_content)"
   ]
  },
  {
   "cell_type": "code",
   "execution_count": 3,
   "id": "abbc5a4b",
   "metadata": {},
   "outputs": [
    {
     "name": "stdout",
     "output_type": "stream",
     "text": [
      "iii zzzztttt tre200s0 uor200s0 prestas0 fa1010z0 da1010z0 rre150z0 ta1200s0 ua1200s0 pa1stas0 fkl010z0 dkl010z0 ra1150z0 fkl010z1 gor000z0 ta2200s0 ua2200s0\n",
      "\n"
     ]
    }
   ],
   "source": [
    "header = file_content[3]\n",
    "print(header)"
   ]
  },
  {
   "cell_type": "code",
   "execution_count": 4,
   "id": "2476e912",
   "metadata": {},
   "outputs": [
    {
     "name": "stdout",
     "output_type": "stream",
     "text": [
      "list of header elements: ['iii', 'zzzztttt', 'tre200s0', 'uor200s0', 'prestas0', 'fa1010z0', 'da1010z0', 'rre150z0', 'ta1200s0', 'ua1200s0', 'pa1stas0', 'fkl010z0', 'dkl010z0', 'ra1150z0', 'fkl010z1', 'gor000z0', 'ta2200s0', 'ua2200s0']\n"
     ]
    }
   ],
   "source": [
    "header_list = header.split()\n",
    "print(\"list of header elements:\", header_list)"
   ]
  },
  {
   "cell_type": "markdown",
   "id": "4e6a2da6",
   "metadata": {},
   "source": [
    "Assignment:\n",
    "1. Extract the header element for temperature (tre200s0).\n",
    "2. Extract the corresponding temperature reading.\n",
    "3. Print the result as follows: _tre200s = 007.3 °C_"
   ]
  },
  {
   "cell_type": "code",
   "execution_count": 5,
   "id": "3ba377f7",
   "metadata": {},
   "outputs": [
    {
     "name": "stdout",
     "output_type": "stream",
     "text": [
      "tre200s0\n"
     ]
    }
   ],
   "source": [
    "header_temp=file_content[3].split()[2]\n",
    "print(header_temp)"
   ]
  },
  {
   "cell_type": "code",
   "execution_count": 6,
   "id": "40350f24",
   "metadata": {},
   "outputs": [
    {
     "name": "stdout",
     "output_type": "stream",
     "text": [
      "['187', '202310190530', '007.3', '098.6', '0662.9', '003.4', '329.6', '00000.00', '006.8', '100.0', '0662.7', '003.9', '008.6', '00000.00', '004.8', '283.9', '7.770', '99.320']\n"
     ]
    }
   ],
   "source": [
    "values=file_content[4].split()\n",
    "print(values)"
   ]
  },
  {
   "cell_type": "code",
   "execution_count": 7,
   "id": "5539aca7",
   "metadata": {},
   "outputs": [
    {
     "name": "stdout",
     "output_type": "stream",
     "text": [
      "tre200s0 : 007.3\n"
     ]
    }
   ],
   "source": [
    "temp=values[2]\n",
    "print(header_temp, \":\", temp)"
   ]
  },
  {
   "cell_type": "markdown",
   "id": "d311f76a",
   "metadata": {},
   "source": [
    "Investigate some properties of the value variable.\n",
    "Convert to float, int"
   ]
  },
  {
   "cell_type": "code",
   "execution_count": 8,
   "id": "b62cff36",
   "metadata": {},
   "outputs": [
    {
     "name": "stdout",
     "output_type": "stream",
     "text": [
      "value: 007.3\n",
      "type of value: <class 'str'>\n",
      "value as floating point number: 7.3\n",
      "type of the rounded floating point value: <class 'int'>\n"
     ]
    }
   ],
   "source": [
    "value=file_content[4].split()[2]\n",
    "print(\"value:\", value)\n",
    "print(\"type of value:\", type(value))\n",
    "\n",
    "print(\"value as floating point number:\", float(value))\n",
    "print(\"type of the rounded floating point value:\", type(round(float(value))))\n"
   ]
  },
  {
   "cell_type": "markdown",
   "id": "cc084d2b",
   "metadata": {},
   "source": [
    "Loops and conditions"
   ]
  },
  {
   "cell_type": "code",
   "execution_count": 9,
   "id": "79091527",
   "metadata": {},
   "outputs": [
    {
     "name": "stdout",
     "output_type": "stream",
     "text": [
      "0 : 1\n",
      "1 : 2\n",
      "2 : 4\n",
      "3 : 7\n",
      "4 : 11\n",
      "5 : 16\n",
      "6 : a is too big\n",
      "7 : a is too big\n",
      "8 : a is too big\n",
      "9 : a is too big\n"
     ]
    }
   ],
   "source": [
    "a = 1\n",
    "\n",
    "for i in range(10):\n",
    "    a = a + i\n",
    "    if a < 20:\n",
    "        print(i, \":\", a)\n",
    "    else:\n",
    "        print(i, \":\", \"a is too big\")"
   ]
  },
  {
   "cell_type": "markdown",
   "id": "0dbb101a",
   "metadata": {},
   "source": [
    "**Read files from a folder, exclude unwanted files. Extract and information in lists.**\n",
    "\n",
    "1st iteration"
   ]
  },
  {
   "cell_type": "code",
   "execution_count": 10,
   "id": "575eb8c5",
   "metadata": {},
   "outputs": [
    {
     "name": "stdout",
     "output_type": "stream",
     "text": [
      "VRXA00.202310190000\n",
      "VRXA00.202310190530\n",
      "VRXA00.202310190540\n",
      "VRXA00.202401111520\n",
      "VRXA00.202401111540\n",
      "VRXA00.202310190610\n",
      "VRXA00.202310190650\n",
      "VRXA00.202310190640\n",
      "VRXA00.202401111530\n",
      "VRXA00.202310190600\n",
      "VRXA00.202310190520\n",
      "VRXA00.202310190630\n",
      "VRXA00.202310190700\n"
     ]
    }
   ],
   "source": [
    "import os\n",
    "path = \"data/meteo\"\n",
    "\n",
    "files = os.listdir(path)\n",
    "\n",
    "for file in files:\n",
    "    if \".zip\" in file:\n",
    "        continue\n",
    "    else:\n",
    "        print(file)\n"
   ]
  },
  {
   "cell_type": "markdown",
   "id": "d75a30fb",
   "metadata": {},
   "source": [
    "2nd iteration"
   ]
  },
  {
   "cell_type": "code",
   "execution_count": 11,
   "id": "f2bef175",
   "metadata": {},
   "outputs": [
    {
     "name": "stdout",
     "output_type": "stream",
     "text": [
      "VRXA00.202310190000 temp= 005.1\n",
      "VRXA00.202310190530 temp= 007.3\n",
      "VRXA00.202310190540 temp= 007.0\n",
      "VRXA00.202401111520 temp= /\n",
      "VRXA00.202401111540 temp= /\n",
      "VRXA00.202310190610 temp= 008.6\n",
      "VRXA00.202310190650 temp= 008.5\n",
      "VRXA00.202310190640 temp= 008.1\n",
      "VRXA00.202401111530 temp= /\n",
      "VRXA00.202310190600 temp= 007.8\n",
      "VRXA00.202310190520 temp= /\n",
      "VRXA00.202310190630 temp= 008.0\n",
      "VRXA00.202310190700 temp= 008.6\n"
     ]
    }
   ],
   "source": [
    "import os\n",
    "path = \"data/meteo\"\n",
    "\n",
    "files = os.listdir(path)\n",
    "\n",
    "for file in files:\n",
    "    if \".zip\" in file:\n",
    "        continue\n",
    "    else:\n",
    "        # Read file as text, extract temperature and print value\n",
    "        with open(file=os.path.join(path, file)) as fh:\n",
    "            file_content = fh.readlines()\n",
    "\n",
    "        temp = file_content[4].split()[2]\n",
    "        print(file, \"temp=\", temp)\n"
   ]
  },
  {
   "cell_type": "markdown",
   "id": "e7895891",
   "metadata": {},
   "source": [
    "3rd iteration: extract temperatures"
   ]
  },
  {
   "cell_type": "code",
   "execution_count": null,
   "id": "a7597c25",
   "metadata": {},
   "outputs": [
    {
     "name": "stdout",
     "output_type": "stream",
     "text": [
      "['005.1', '007.3', '007.0', '/', '/', '008.6', '008.5', '008.1', '/', '007.8', '/', '008.0', '008.6']\n"
     ]
    }
   ],
   "source": [
    "import os\n",
    "path = \"data/meteo\"\n",
    "\n",
    "files = os.listdir(path)\n",
    "\n",
    "temperatures = list()\n",
    "\n",
    "for file in files:\n",
    "    if \".zip\" in file:\n",
    "        continue\n",
    "    else:\n",
    "        # Read file as text, extract temperature and print value\n",
    "        with open(file=os.path.join(path, file)) as fh:\n",
    "            file_content = fh.readlines()\n",
    "\n",
    "        temp = file_content[4].split()[2]\n",
    "\n",
    "        # append value to list\n",
    "        temperatures.append(temp)\n",
    "\n",
    "print(temperatures)\n"
   ]
  },
  {
   "cell_type": "markdown",
   "id": "11d862a8",
   "metadata": {},
   "source": [
    "4th iteration: extract datetimes and temperatures"
   ]
  },
  {
   "cell_type": "code",
   "execution_count": 13,
   "id": "6ce5ffdd",
   "metadata": {},
   "outputs": [
    {
     "name": "stdout",
     "output_type": "stream",
     "text": [
      "['202310190000', '202310190530', '202310190540', '202401111520', '202401111540', '202310190610', '202310190650', '202310190640', '202401111530', '202310190600', '202310190520', '202310190630', '202310190700']\n",
      "['005.1', '007.3', '007.0', '/', '/', '008.6', '008.5', '008.1', '/', '007.8', '/', '008.0', '008.6']\n"
     ]
    }
   ],
   "source": [
    "import os\n",
    "path = \"data/meteo\"\n",
    "\n",
    "datetimes = list()\n",
    "temperatures = list()\n",
    "\n",
    "# list all files in path\n",
    "files = os.listdir(path)\n",
    "\n",
    "for file in files:\n",
    "    if \".zip\" in file:\n",
    "        continue\n",
    "    else:\n",
    "        # datetime = file.split(sep=\".\")[1]\n",
    "        datetime = file.replace(\"VRXA00.\", \"\")\n",
    "        datetimes.append(datetime)\n",
    "\n",
    "        # Read file as text, extract temperature and print value\n",
    "        with open(file=os.path.join(path, file)) as fh:\n",
    "            file_content = fh.readlines()\n",
    "\n",
    "        temperature = file_content[4].split()[2]\n",
    "        temperatures.append(temperature)\n",
    "\n",
    "print(datetimes)\n",
    "print(temperatures)\n"
   ]
  },
  {
   "cell_type": "markdown",
   "id": "8af1dd1d",
   "metadata": {},
   "source": [
    "5th iteration: convert to proper datetimes, transform missing temperature readings"
   ]
  },
  {
   "cell_type": "code",
   "execution_count": 14,
   "id": "255ccf43",
   "metadata": {},
   "outputs": [
    {
     "name": "stdout",
     "output_type": "stream",
     "text": [
      "['202310190000', '202310190530', '202310190540', '202401111520', '202401111540', '202310190610', '202310190650', '202310190640', '202401111530', '202310190600', '202310190520', '202310190630', '202310190700']\n",
      "[5.1, 7.3, 7.0, None, None, 8.6, 8.5, 8.1, None, 7.8, None, 8.0, 8.6]\n"
     ]
    }
   ],
   "source": [
    "import os\n",
    "path = \"data/meteo\"\n",
    "\n",
    "datetimes = list()\n",
    "temperatures = list()\n",
    "\n",
    "# list all files in path\n",
    "files = os.listdir(path)\n",
    "\n",
    "for file in files:\n",
    "    if \".zip\" in file:\n",
    "        continue\n",
    "    else:\n",
    "        # datetime = file.split(sep=\".\")[1]\n",
    "        datetime = file.replace(\"VRXA00.\", \"\")\n",
    "        datetimes.append(datetime)\n",
    "\n",
    "        # Read file as text and print content\n",
    "        with open(file=os.path.join(path, file)) as fh:\n",
    "            file_content = fh.readlines()\n",
    "\n",
    "        temperature = file_content[4].split()[2]\n",
    "        try:\n",
    "            temperature = float(temperature)\n",
    "        except:\n",
    "            temperature = None\n",
    "        temperatures.append(temperature)\n",
    "\n",
    "print(datetimes)\n",
    "print(temperatures)\n"
   ]
  },
  {
   "cell_type": "markdown",
   "id": "64b2529d",
   "metadata": {},
   "source": [
    "Convert datetimes into proper date/time stamps"
   ]
  },
  {
   "cell_type": "code",
   "execution_count": null,
   "id": "01f38b04",
   "metadata": {},
   "outputs": [
    {
     "name": "stdout",
     "output_type": "stream",
     "text": [
      "[datetime.datetime(2023, 10, 19, 0, 0, tzinfo=datetime.timezone.utc), datetime.datetime(2023, 10, 19, 5, 30, tzinfo=datetime.timezone.utc), datetime.datetime(2023, 10, 19, 5, 40, tzinfo=datetime.timezone.utc), datetime.datetime(2024, 1, 11, 15, 20, tzinfo=datetime.timezone.utc), datetime.datetime(2024, 1, 11, 15, 40, tzinfo=datetime.timezone.utc), datetime.datetime(2023, 10, 19, 6, 10, tzinfo=datetime.timezone.utc), datetime.datetime(2023, 10, 19, 6, 50, tzinfo=datetime.timezone.utc), datetime.datetime(2023, 10, 19, 6, 40, tzinfo=datetime.timezone.utc), datetime.datetime(2024, 1, 11, 15, 30, tzinfo=datetime.timezone.utc), datetime.datetime(2023, 10, 19, 6, 0, tzinfo=datetime.timezone.utc), datetime.datetime(2023, 10, 19, 5, 20, tzinfo=datetime.timezone.utc), datetime.datetime(2023, 10, 19, 6, 30, tzinfo=datetime.timezone.utc), datetime.datetime(2023, 10, 19, 7, 0, tzinfo=datetime.timezone.utc)]\n"
     ]
    }
   ],
   "source": [
    "from datetime import datetime, timezone\n",
    "\n",
    "datetimes_utc = [\n",
    "    datetime.strptime(ds, \"%Y%m%d%H%M\").replace(tzinfo=timezone.utc)\n",
    "    for ds in datetimes\n",
    "]\n",
    "print(datetimes_utc)\n"
   ]
  },
  {
   "cell_type": "markdown",
   "id": "9a078a11",
   "metadata": {},
   "source": [
    "Read lists into a Polars DataFrame for plotting"
   ]
  },
  {
   "cell_type": "code",
   "execution_count": 16,
   "id": "46e27e56",
   "metadata": {},
   "outputs": [
    {
     "data": {
      "text/html": [
       "<div><style>\n",
       ".dataframe > thead > tr,\n",
       ".dataframe > tbody > tr {\n",
       "  text-align: right;\n",
       "  white-space: pre-wrap;\n",
       "}\n",
       "</style>\n",
       "<small>shape: (13, 2)</small><table border=\"1\" class=\"dataframe\"><thead><tr><th>dtm</th><th>T</th></tr><tr><td>datetime[μs, UTC]</td><td>f64</td></tr></thead><tbody><tr><td>2023-10-19 00:00:00 UTC</td><td>5.1</td></tr><tr><td>2023-10-19 05:20:00 UTC</td><td>null</td></tr><tr><td>2023-10-19 05:30:00 UTC</td><td>7.3</td></tr><tr><td>2023-10-19 05:40:00 UTC</td><td>7.0</td></tr><tr><td>2023-10-19 06:00:00 UTC</td><td>7.8</td></tr><tr><td>&hellip;</td><td>&hellip;</td></tr><tr><td>2023-10-19 06:50:00 UTC</td><td>8.5</td></tr><tr><td>2023-10-19 07:00:00 UTC</td><td>8.6</td></tr><tr><td>2024-01-11 15:20:00 UTC</td><td>null</td></tr><tr><td>2024-01-11 15:30:00 UTC</td><td>null</td></tr><tr><td>2024-01-11 15:40:00 UTC</td><td>null</td></tr></tbody></table></div>"
      ],
      "text/plain": [
       "shape: (13, 2)\n",
       "┌─────────────────────────┬──────┐\n",
       "│ dtm                     ┆ T    │\n",
       "│ ---                     ┆ ---  │\n",
       "│ datetime[μs, UTC]       ┆ f64  │\n",
       "╞═════════════════════════╪══════╡\n",
       "│ 2023-10-19 00:00:00 UTC ┆ 5.1  │\n",
       "│ 2023-10-19 05:20:00 UTC ┆ null │\n",
       "│ 2023-10-19 05:30:00 UTC ┆ 7.3  │\n",
       "│ 2023-10-19 05:40:00 UTC ┆ 7.0  │\n",
       "│ 2023-10-19 06:00:00 UTC ┆ 7.8  │\n",
       "│ …                       ┆ …    │\n",
       "│ 2023-10-19 06:50:00 UTC ┆ 8.5  │\n",
       "│ 2023-10-19 07:00:00 UTC ┆ 8.6  │\n",
       "│ 2024-01-11 15:20:00 UTC ┆ null │\n",
       "│ 2024-01-11 15:30:00 UTC ┆ null │\n",
       "│ 2024-01-11 15:40:00 UTC ┆ null │\n",
       "└─────────────────────────┴──────┘"
      ]
     },
     "execution_count": 16,
     "metadata": {},
     "output_type": "execute_result"
    }
   ],
   "source": [
    "import polars as pl\n",
    "df = pl.DataFrame(zip(datetimes_utc, temperatures))\n",
    "df.columns=[\"dtm\", \"T\"]\n",
    "df = df.sort(\"dtm\")\n",
    "df"
   ]
  },
  {
   "cell_type": "code",
   "execution_count": 17,
   "id": "db2cad12",
   "metadata": {},
   "outputs": [
    {
     "data": {
      "text/html": [
       "\n",
       "<style>\n",
       "  #altair-viz-17151c909c4d4ccea517357e43763892.vega-embed {\n",
       "    width: 100%;\n",
       "    display: flex;\n",
       "  }\n",
       "\n",
       "  #altair-viz-17151c909c4d4ccea517357e43763892.vega-embed details,\n",
       "  #altair-viz-17151c909c4d4ccea517357e43763892.vega-embed details summary {\n",
       "    position: relative;\n",
       "  }\n",
       "</style>\n",
       "<div id=\"altair-viz-17151c909c4d4ccea517357e43763892\"></div>\n",
       "<script type=\"text/javascript\">\n",
       "  var VEGA_DEBUG = (typeof VEGA_DEBUG == \"undefined\") ? {} : VEGA_DEBUG;\n",
       "  (function(spec, embedOpt){\n",
       "    let outputDiv = document.currentScript.previousElementSibling;\n",
       "    if (outputDiv.id !== \"altair-viz-17151c909c4d4ccea517357e43763892\") {\n",
       "      outputDiv = document.getElementById(\"altair-viz-17151c909c4d4ccea517357e43763892\");\n",
       "    }\n",
       "\n",
       "    const paths = {\n",
       "      \"vega\": \"https://cdn.jsdelivr.net/npm/vega@5?noext\",\n",
       "      \"vega-lib\": \"https://cdn.jsdelivr.net/npm/vega-lib?noext\",\n",
       "      \"vega-lite\": \"https://cdn.jsdelivr.net/npm/vega-lite@5.20.1?noext\",\n",
       "      \"vega-embed\": \"https://cdn.jsdelivr.net/npm/vega-embed@6?noext\",\n",
       "    };\n",
       "\n",
       "    function maybeLoadScript(lib, version) {\n",
       "      var key = `${lib.replace(\"-\", \"\")}_version`;\n",
       "      return (VEGA_DEBUG[key] == version) ?\n",
       "        Promise.resolve(paths[lib]) :\n",
       "        new Promise(function(resolve, reject) {\n",
       "          var s = document.createElement('script');\n",
       "          document.getElementsByTagName(\"head\")[0].appendChild(s);\n",
       "          s.async = true;\n",
       "          s.onload = () => {\n",
       "            VEGA_DEBUG[key] = version;\n",
       "            return resolve(paths[lib]);\n",
       "          };\n",
       "          s.onerror = () => reject(`Error loading script: ${paths[lib]}`);\n",
       "          s.src = paths[lib];\n",
       "        });\n",
       "    }\n",
       "\n",
       "    function showError(err) {\n",
       "      outputDiv.innerHTML = `<div class=\"error\" style=\"color:red;\">${err}</div>`;\n",
       "      throw err;\n",
       "    }\n",
       "\n",
       "    function displayChart(vegaEmbed) {\n",
       "      vegaEmbed(outputDiv, spec, embedOpt)\n",
       "        .catch(err => showError(`Javascript Error: ${err.message}<br>This usually means there's a typo in your chart specification. See the javascript console for the full traceback.`));\n",
       "    }\n",
       "\n",
       "    if(typeof define === \"function\" && define.amd) {\n",
       "      requirejs.config({paths});\n",
       "      let deps = [\"vega-embed\"];\n",
       "      require(deps, displayChart, err => showError(`Error loading script: ${err.message}`));\n",
       "    } else {\n",
       "      maybeLoadScript(\"vega\", \"5\")\n",
       "        .then(() => maybeLoadScript(\"vega-lite\", \"5.20.1\"))\n",
       "        .then(() => maybeLoadScript(\"vega-embed\", \"6\"))\n",
       "        .catch(showError)\n",
       "        .then(() => displayChart(vegaEmbed));\n",
       "    }\n",
       "  })({\"config\": {\"view\": {\"continuousWidth\": 300, \"continuousHeight\": 300}}, \"data\": {\"name\": \"data-020a0baafa93a463e5c579de8a8dbcf1\"}, \"mark\": {\"type\": \"point\", \"tooltip\": true}, \"encoding\": {\"x\": {\"field\": \"dtm\", \"type\": \"temporal\"}, \"y\": {\"field\": \"T\", \"type\": \"quantitative\"}}, \"params\": [{\"name\": \"param_1\", \"select\": {\"type\": \"interval\", \"encodings\": [\"x\", \"y\"]}, \"bind\": \"scales\"}], \"$schema\": \"https://vega.github.io/schema/vega-lite/v5.20.1.json\", \"datasets\": {\"data-020a0baafa93a463e5c579de8a8dbcf1\": [{\"dtm\": \"2023-10-19T00:00:00\", \"T\": 5.1}, {\"dtm\": \"2023-10-19T05:20:00\", \"T\": null}, {\"dtm\": \"2023-10-19T05:30:00\", \"T\": 7.3}, {\"dtm\": \"2023-10-19T05:40:00\", \"T\": 7.0}, {\"dtm\": \"2023-10-19T06:00:00\", \"T\": 7.8}, {\"dtm\": \"2023-10-19T06:10:00\", \"T\": 8.6}, {\"dtm\": \"2023-10-19T06:30:00\", \"T\": 8.0}, {\"dtm\": \"2023-10-19T06:40:00\", \"T\": 8.1}, {\"dtm\": \"2023-10-19T06:50:00\", \"T\": 8.5}, {\"dtm\": \"2023-10-19T07:00:00\", \"T\": 8.6}, {\"dtm\": \"2024-01-11T15:20:00\", \"T\": null}, {\"dtm\": \"2024-01-11T15:30:00\", \"T\": null}, {\"dtm\": \"2024-01-11T15:40:00\", \"T\": null}]}}, {\"mode\": \"vega-lite\"});\n",
       "</script>"
      ],
      "text/plain": [
       "alt.Chart(...)"
      ]
     },
     "execution_count": 17,
     "metadata": {},
     "output_type": "execute_result"
    }
   ],
   "source": [
    "df.plot.point(x=\"dtm\", y=\"T\")"
   ]
  },
  {
   "cell_type": "code",
   "execution_count": 25,
   "id": "5af263e9",
   "metadata": {},
   "outputs": [
    {
     "name": "stdout",
     "output_type": "stream",
     "text": [
      "Using matplotlib backend: widget\n"
     ]
    },
    {
     "data": {
      "text/plain": [
       "<matplotlib.collections.PathCollection at 0x75e9b84aa780>"
      ]
     },
     "execution_count": 25,
     "metadata": {},
     "output_type": "execute_result"
    },
    {
     "data": {
      "application/vnd.jupyter.widget-view+json": {
       "model_id": "210d0b6d6e9b486590afa862c3306e3f",
       "version_major": 2,
       "version_minor": 0
      },
      "image/png": "[encoded data removed]",
      "text/html": [
       "\n",
       "            <div style=\"display: inline-block;\">\n",
       "                <div class=\"jupyter-widgets widget-label\" style=\"text-align: center;\">\n",
       "                    Figure\n",
       "                </div>\n",
       "                <img src='data:image/png;base64,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' width=640.0/>\n",
       "            </div>\n",
       "        "
      ],
      "text/plain": [
       "Canvas(toolbar=Toolbar(toolitems=[('Home', 'Reset original view', 'home', 'home'), ('Back', 'Back to previous …"
      ]
     },
     "metadata": {},
     "output_type": "display_data"
    }
   ],
   "source": [
    "%matplotlib\n",
    "import matplotlib.pyplot as plt\n",
    "\n",
    "fig = plt.figure()\n",
    "plt.scatter(df[\"dtm\"], df[\"T\"])\n"
   ]
  }
 ],
 "metadata": {
  "kernelspec": {
   "display_name": ".venv",
   "language": "python",
   "name": "python3"
  },
  "language_info": {
   "codemirror_mode": {
    "name": "ipython",
    "version": 3
   },
   "file_extension": ".py",
   "mimetype": "text/x-python",
   "name": "python",
   "nbconvert_exporter": "python",
   "pygments_lexer": "ipython3",
   "version": "3.12.3"
  }
 },
 "nbformat": 4,
 "nbformat_minor": 5
}
